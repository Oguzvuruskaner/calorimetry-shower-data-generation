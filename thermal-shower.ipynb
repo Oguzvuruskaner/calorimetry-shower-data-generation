{
 "cells": [
  {
   "cell_type": "code",
   "execution_count": 26,
   "metadata": {},
   "outputs": [],
   "source": [
    "%matplotlib inline"
   ]
  },
  {
   "cell_type": "code",
   "execution_count": 2,
   "metadata": {},
   "outputs": [],
   "source": [
    "import matplotlib.pyplot as plt\n",
    "import seaborn as sns\n",
    "import numpy as np\n",
    "import pandas as pd\n",
    "from os import path,listdir\n",
    "import uproot\n",
    "import scipy.stats as stats\n",
    "from sklearn.preprocessing import StandardScaler\n",
    "from scripts import plotFeatures"
   ]
  },
  {
   "cell_type": "code",
   "execution_count": 28,
   "metadata": {},
   "outputs": [],
   "source": [
    "root_basenames= [file_basename for file_basename in listdir(\"root_files\") if file_basename.endswith(\".root\") ]\n",
    "root_files = [path.join(\"root_files\",root_basename) for root_basename in root_basenames]"
   ]
  },
  {
   "cell_type": "markdown",
   "metadata": {},
   "source": [
    "Problem Definition:\n",
    "\n",
    "Let's say $N \\in Z^+$. $N \\sim N_{dist}$ where $N_{dist}$ is the distribution of the possible number of particles in a thermal shower experiment.\n",
    "\n",
    "Let's say $hit\\_values \\in R^4$ and $hit\\_values = <hit_x,hit_y,hit_z,hit_e>$.\n",
    "\n",
    "$hit_x \\sim X_{dist}$ \n",
    "\n",
    "$hit_y \\sim Y_{dist}$ \n",
    "\n",
    "$hit_z \\sim Z_{dist}$ \n",
    "\n",
    "$hit_e \\sim E_{dist}$ \n",
    "\n",
    "The aim is to find five probability distributions which are $X_{dist}, Y_{dist}, Z_{dist}, E_{dist}, P_{dist}$ to finally generate an $N$ sized array of $hit\\_values$.\n",
    "\n",
    " \n",
    "\n"
   ]
  },
  {
   "cell_type": "markdown",
   "metadata": {},
   "source": [
    "<span style=\"font-size:24px;\">Empirical $N_{dist}$ values</span>\n"
   ]
  },
  {
   "cell_type": "code",
   "execution_count": 29,
   "metadata": {},
   "outputs": [
    {
     "name": "stdout",
     "output_type": "stream",
     "text": [
      "Mean : 139356.48583333334\n",
      "Mean : 25077.70160646969\n",
      "Max : 179380\n",
      "Min : 771\n"
     ]
    },
    {
     "data": {
      "image/png": "[encoded data removed]",
      "text/plain": [
       "<Figure size 432x288 with 1 Axes>"
      ]
     },
     "metadata": {
      "needs_background": "light"
     },
     "output_type": "display_data"
    }
   ],
   "source": [
    "experiment_counts = []\n",
    "\n",
    "for root_file in root_files:\n",
    "    with uproot.open(root_file) as root:\n",
    "        \n",
    "        hit_x = np.array(root[b\"showers\"][b\"hit_x\"].array())\n",
    "        \n",
    "        for exp_x in hit_x:\n",
    "            experiment_counts.append(len(exp_x))\n",
    "            \n",
    "\n",
    "experiment_counts = np.array(experiment_counts)\n",
    "\n",
    "ax = sns.distplot(experiment_counts,kde=False)\n",
    "ax.set(xlabel=\"# particles in experiment\",ylabel=\"Count\")\n",
    "\n",
    "print(\"Mean : {}\".format(np.mean(experiment_counts)))\n",
    "print(\"Mean : {}\".format(np.std(experiment_counts)))\n",
    "print(\"Max : {}\".format(np.max(experiment_counts)))\n",
    "print(\"Min : {}\".format(np.min(experiment_counts)))"
   ]
  },
  {
   "cell_type": "markdown",
   "metadata": {},
   "source": [
    "<span style=\"font-size:24px;\">Empirical $X_{dist}$ values</span>\n"
   ]
  },
  {
   "cell_type": "code",
   "execution_count": 30,
   "metadata": {},
   "outputs": [
    {
     "name": "stdout",
     "output_type": "stream",
     "text": [
      "Mean : 0.016301987421230454\n",
      "Std : 22.886422070327388\n",
      "Max : 190.29022216796875\n",
      "Min : -189.828125\n"
     ]
    },
    {
     "data": {
      "image/png": "[encoded data removed]",
      "text/plain": [
       "<Figure size 432x288 with 1 Axes>"
      ]
     },
     "metadata": {
      "needs_background": "light"
     },
     "output_type": "display_data"
    }
   ],
   "source": [
    "x_values = np.load(path.join(\"npy\",\"hit_x_combined.npy\"))\n",
    "\n",
    "ss = StandardScaler()\n",
    "ss.fit(x_values)\n",
    "\n",
    "transformed_data = ss.transform(x_values)\n",
    "filter_array = (transformed_data <= 4) & (transformed_data >= -4)  \n",
    "transformed_data = None\n",
    "\n",
    "x_values = x_values[filter_array]\n",
    "\n",
    "ax = sns.distplot(x_values,kde=False)\n",
    "ax.set(xlabel=\"x_coordinates\",ylabel=\"Count\")\n",
    "\n",
    "print(\"Mean : {}\".format(np.mean(x_values)))\n",
    "print(\"Std : {}\".format(np.std(x_values)))\n",
    "print(\"Max : {}\".format(np.max(x_values)))\n",
    "print(\"Min : {}\".format(np.min(x_values)))"
   ]
  },
  {
   "cell_type": "markdown",
   "metadata": {},
   "source": [
    "<span style=\"font-size:24px;\">Empirical $Y_{dist}$ values</span>\n"
   ]
  },
  {
   "cell_type": "code",
   "execution_count": 31,
   "metadata": {},
   "outputs": [
    {
     "name": "stdout",
     "output_type": "stream",
     "text": [
      "Mean : 0.0013293180561942445\n",
      "Std : 22.714655978792102\n",
      "Max : 182.6769256591797\n",
      "Min : -182.73646545410156\n"
     ]
    },
    {
     "data": {
      "image/png": "[encoded data removed]",
      "text/plain": [
       "<Figure size 432x288 with 1 Axes>"
      ]
     },
     "metadata": {
      "needs_background": "light"
     },
     "output_type": "display_data"
    }
   ],
   "source": [
    "y_values = np.load(path.join(\"npy\",\"hit_y_combined.npy\"))\n",
    "\n",
    "ss = StandardScaler()\n",
    "ss.fit(y_values)\n",
    "\n",
    "transformed_data = ss.transform(y_values)\n",
    "filter_array = (transformed_data <= 4) & (transformed_data >= -4)  \n",
    "transformed_data = None\n",
    "\n",
    "y_values = y_values[filter_array]\n",
    "\n",
    "ax = sns.distplot(y_values,kde=False)\n",
    "ax.set(xlabel=\"y_coordinates\",ylabel=\"Count\")\n",
    "\n",
    "print(\"Mean : {}\".format(np.mean(y_values)))\n",
    "print(\"Std : {}\".format(np.std(y_values)))\n",
    "print(\"Max : {}\".format(np.max(y_values)))\n",
    "print(\"Min : {}\".format(np.min(y_values)))"
   ]
  },
  {
   "cell_type": "markdown",
   "metadata": {},
   "source": [
    "<span style=\"font-size:24px;\">Empirical $Z_{dist}$ values</span>\n"
   ]
  },
  {
   "cell_type": "code",
   "execution_count": 32,
   "metadata": {},
   "outputs": [
    {
     "name": "stdout",
     "output_type": "stream",
     "text": [
      "Mean : 195.5298423428418\n",
      "Std : 37.54913420809588\n",
      "Max : 482.88720703125\n",
      "Min : -89.38433837890625\n"
     ]
    },
    {
     "data": {
      "image/png": "[encoded data removed]",
      "text/plain": [
       "<Figure size 432x288 with 1 Axes>"
      ]
     },
     "metadata": {
      "needs_background": "light"
     },
     "output_type": "display_data"
    }
   ],
   "source": [
    "z_values = np.load(path.join(\"npy\",\"hit_z_combined.npy\"))\n",
    "ss = StandardScaler()\n",
    "ss.fit(z_values)\n",
    "\n",
    "transformed_data = ss.transform(z_values)\n",
    "filter_array = (transformed_data <= 4) & (transformed_data >= -4)  \n",
    "transformed_data = None\n",
    "\n",
    "z_values = z_values[filter_array]\n",
    "\n",
    "ax = sns.distplot(z_values,kde=False)\n",
    "ax.set(xlabel=\"z_coordinates\",ylabel=\"Count\")\n",
    "\n",
    "print(\"Mean : {}\".format(np.mean(z_values)))\n",
    "print(\"Std : {}\".format(np.std(z_values)))\n",
    "print(\"Max : {}\".format(np.max(z_values)))\n",
    "print(\"Min : {}\".format(np.min(z_values)))"
   ]
  },
  {
   "cell_type": "markdown",
   "metadata": {},
   "source": [
    "<span style=\"font-size:24px;\">Empirical $E_{dist}$ values</span>\n"
   ]
  },
  {
   "cell_type": "code",
   "execution_count": 34,
   "metadata": {},
   "outputs": [
    {
     "name": "stdout",
     "output_type": "stream",
     "text": [
      "Mean : 0.00022659348076442543\n",
      "Std : 0.0006018015815417364\n",
      "Max : 0.005526063963770866\n",
      "Min : 0.0\n"
     ]
    },
    {
     "data": {
      "image/png": "[encoded data removed]",
      "text/plain": [
       "<Figure size 432x288 with 1 Axes>"
      ]
     },
     "metadata": {
      "needs_background": "light"
     },
     "output_type": "display_data"
    }
   ],
   "source": [
    "e_values = np.load(path.join(\"npy\",\"hit_e_combined.npy\"))\n",
    "\n",
    "ss = StandardScaler()\n",
    "ss.fit(e_values)\n",
    "\n",
    "transformed_data = ss.transform(e_values)\n",
    "filter_array = (transformed_data <= 4) & (transformed_data >= -4)  \n",
    "transformed_data = None\n",
    "\n",
    "e_values = e_values[filter_array]\n",
    "\n",
    "ax = sns.distplot(e_values,kde=False)\n",
    "ax.set(xlabel=\"e_coordinates\",ylabel=\"Count\")\n",
    "\n",
    "print(\"Mean : {}\".format(np.mean(e_values)))\n",
    "print(\"Std : {}\".format(np.std(e_values)))\n",
    "print(\"Max : {}\".format(np.max(e_values)))\n",
    "print(\"Min : {}\".format(np.min(e_values)))"
   ]
  },
  {
   "cell_type": "markdown",
   "metadata": {},
   "source": [
    "<span style=\"font-size:24px;\">Correlation map of $hit_x$ $hit_y$ $hit_z$ $hit_e$</span>"
   ]
  },
  {
   "cell_type": "code",
   "execution_count": 6,
   "metadata": {},
   "outputs": [
    {
     "name": "stdout",
     "output_type": "stream",
     "text": [
      "          hit_x     hit_y     hit_z     hit_e\n",
      "hit_x  1.000000 -0.033602  0.003356 -0.001111\n",
      "hit_y -0.033602  1.000000 -0.016201  0.000328\n",
      "hit_z  0.003356 -0.016201  1.000000 -0.015122\n",
      "hit_e -0.001111  0.000328 -0.015122  1.000000\n"
     ]
    },
    {
     "data": {
      "image/png": "[encoded data removed]",
      "text/plain": [
       "<Figure size 432x288 with 2 Axes>"
      ]
     },
     "metadata": {
      "needs_background": "light"
     },
     "output_type": "display_data"
    }
   ],
   "source": [
    "data = np.load(path.join(\"npy\",\"quadruple_all.npy\"),allow_pickle=True)\n",
    "data = pd.DataFrame(data=data,columns=[\"hit_x\",\"hit_y\",\"hit_z\",\"hit_e\"])\n",
    "\n",
    "sns.heatmap(data.corr())\n",
    "print(data.corr())"
   ]
  },
  {
   "cell_type": "markdown",
   "metadata": {},
   "source": [
    "As it can be seen in the printed table and the graph, the correlation values are near zero. This table concludes that $hit_x$,$hit_y$,$hit_z$ and $hit_e$ are not linearly correlated with each other. They can be treated as independent variables."
   ]
  },
  {
   "cell_type": "code",
   "execution_count": null,
   "metadata": {},
   "outputs": [],
   "source": []
  }
 ],
 "metadata": {
  "kernelspec": {
   "display_name": "Python 3",
   "language": "python",
   "name": "python3"
  },
  "language_info": {
   "codemirror_mode": {
    "name": "ipython",
    "version": 3
   },
   "file_extension": ".py",
   "mimetype": "text/x-python",
   "name": "python",
   "nbconvert_exporter": "python",
   "pygments_lexer": "ipython3",
   "version": "3.6.8"
  },
  "widgets": {
   "application/vnd.jupyter.widget-state+json": {
    "state": {},
    "version_major": 2,
    "version_minor": 0
   }
  }
 },
 "nbformat": 4,
 "nbformat_minor": 1
}
